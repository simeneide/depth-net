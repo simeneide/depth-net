{
 "cells": [
  {
   "cell_type": "code",
   "execution_count": 2,
   "metadata": {},
   "outputs": [],
   "source": [
    "!sudo pip install bcolz -q"
   ]
  },
  {
   "cell_type": "code",
   "execution_count": 3,
   "metadata": {},
   "outputs": [],
   "source": [
    "import h5py\n",
    "import matplotlib.pyplot as plt\n",
    "import numpy as np\n",
    "import bcolz\n",
    "%matplotlib inline"
   ]
  },
  {
   "cell_type": "code",
   "execution_count": 4,
   "metadata": {},
   "outputs": [],
   "source": [
    "raw = h5py.File('nyu_depth_v2_labeled.mat')\n",
    "N,channels,width,height = raw['images'].shape"
   ]
  },
  {
   "cell_type": "code",
   "execution_count": 5,
   "metadata": {},
   "outputs": [],
   "source": [
    "bs = 10\n",
    "img_mu = np.array([125,107,102])\n",
    "img_std = 76.4\n",
    "depth_mu = 2.7\n",
    "depth_std = 1.4\n",
    "def prepare_batch(index,bs = 10):\n",
    "    dat = h5py.File(\"data.hdf5\",'w')\n",
    "    while True:\n",
    "        idx = np.sort(np.random.choice(index,bs,replace=False)).tolist()\n",
    "        img = dat['images'][idx,]\n",
    "\n",
    "        depth = dat['depths'][idx,]\n",
    "        depth = np.expand_dims(depth,-1)\n",
    "        yield img, depth"
   ]
  },
  {
   "cell_type": "code",
   "execution_count": 15,
   "metadata": {},
   "outputs": [
    {
     "data": {
      "text/plain": [
       "(1449, 3, 640, 480)"
      ]
     },
     "execution_count": 15,
     "metadata": {},
     "output_type": "execute_result"
    }
   ],
   "source": [
    "raw['images'].shape[]"
   ]
  },
  {
   "cell_type": "code",
   "execution_count": 37,
   "metadata": {},
   "outputs": [],
   "source": [
    "def chunks(l, n):\n",
    "    \"\"\"Yield successive n-sized chunks from l.\"\"\"\n",
    "    for i in range(0, len(l), n):\n",
    "        yield l[i:i + n]\n",
    "\n",
    "images = bcolz.fill( (N,height,width,channels),dtype='float32',rootdir=\"data/images_bcolz\",mode=\"w\")\n",
    "depths = bcolz.fill( (N,height,width,1),dtype='float32',rootdir=\"data/depths_bcolz\",mode=\"w\")\n",
    "\n",
    "size = 100\n",
    "\n",
    "print('transform images..')\n",
    "for i, img in enumerate(chunks(raw['images'] ,size)):\n",
    "    img = np.einsum('nkli->nilk', img)\n",
    "    img = ((img-img_mu)/img_std)\n",
    "    images[(i*size):min((i+1)*size,N),] = img\n",
    "    \n",
    "images.flush()\n",
    "print('transform depths..')\n",
    "for i, depth in enumerate(chunks(raw['depths'] ,size)):\n",
    "    depth = np.einsum('nkl->nlk', depth)\n",
    "    depth = (depth-depth_mu)/1.5\n",
    "    depth = np.expand_dims(depth,-1)\n",
    "    depths[(i*size):min((i+1)*size,N),] = depth\n",
    "depths.flush()\n",
    "        \n",
    "bs = 10\n",
    "img_mu = np.array([125,107,102])\n",
    "img_std = 76.4\n",
    "depth_mu = 2.7\n",
    "depth_std = 1.4"
   ]
  },
  {
   "cell_type": "code",
   "execution_count": 38,
   "metadata": {},
   "outputs": [],
   "source": []
  },
  {
   "cell_type": "code",
   "execution_count": 46,
   "metadata": {},
   "outputs": [],
   "source": []
  },
  {
   "cell_type": "code",
   "execution_count": 8,
   "metadata": {},
   "outputs": [
    {
     "name": "stdout",
     "output_type": "stream",
     "text": [
      "transform images..\n",
      "transform depths..\n"
     ]
    }
   ],
   "source": []
  },
  {
   "cell_type": "code",
   "execution_count": null,
   "metadata": {},
   "outputs": [],
   "source": []
  }
 ],
 "metadata": {
  "kernelspec": {
   "display_name": "Python 2",
   "language": "python",
   "name": "python2"
  },
  "language_info": {
   "codemirror_mode": {
    "name": "ipython",
    "version": 2
   },
   "file_extension": ".py",
   "mimetype": "text/x-python",
   "name": "python",
   "nbconvert_exporter": "python",
   "pygments_lexer": "ipython2",
   "version": "2.7.12"
  }
 },
 "nbformat": 4,
 "nbformat_minor": 2
}
